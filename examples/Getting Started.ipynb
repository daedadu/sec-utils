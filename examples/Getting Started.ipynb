{
 "cells": [
  {
   "cell_type": "markdown",
   "metadata": {},
   "source": [
    "### sec-utils getting started notebook\n",
    "\n",
    "sec-utils makes the actual process of downloading SEC files easier with an API that handles building master.idx files to actually iterating and downloading the files in parallel. The Edgar database hosts TB's of data and these jobs can take a considerable amount of time.  sec-utils helps ensure smooth operations including logging, resuming downloading, restarting downloads, etc.\n",
    "\n",
    "There are two main ways to interface with the package. You can interface with the package via the command line to kick off long running jobs, or if you want to get a bit more hands on with the work you can interface with it directly. This notebook will cover the latter. \n",
    "\n",
    "##### Notebook Overview:\n",
    "- [Installing secutils](#install)\n",
    "- [Load sec utils and build FormIDX](#load)\n",
    "- [Download SEC Files](#download)"
   ]
  },
  {
   "cell_type": "markdown",
   "metadata": {},
   "source": [
    "##### Installing secutils <a id='install' />\n",
    "There are two primary methods of installing sec-utils. The first is via the python packaging index. The second is straight from source. \n",
    "\n",
    "To install from pypi:\n",
    "```bash\n",
    "pip install secutils\n",
    "```\n",
    "\n",
    "And to install from source:\n",
    "```bash\n",
    "git clone https://github.com/datawrestler/sec-utils && cd sec-utils\n",
    "conda create --name sec_env python=3.7 pip\n",
    "conda activate sec_env\n",
    "pip install -r requirements.txt\n",
    "pip install -e .\n",
    "```"
   ]
  },
  {
   "cell_type": "markdown",
   "metadata": {},
   "source": [
    "##### Loading secutils <a id='load' />"
   ]
  },
  {
   "cell_type": "code",
   "execution_count": 1,
   "metadata": {},
   "outputs": [],
   "source": [
    "from secutils.edgar import FormIDX"
   ]
  },
  {
   "cell_type": "code",
   "execution_count": 2,
   "metadata": {},
   "outputs": [
    {
     "name": "stderr",
     "output_type": "stream",
     "text": [
      "specified form type not found in master.idx (2017) - (4) - form not found: []\n"
     ]
    }
   ],
   "source": [
    "# the main interface to master index's are through FormIDX where you can specify the year and quarter of filings that you want,\n",
    "# the specific form types, etc.\n",
    "\n",
    "form = FormIDX(year=2017, quarter=4, form_types=['10-K'])"
   ]
  },
  {
   "cell_type": "code",
   "execution_count": 3,
   "metadata": {},
   "outputs": [
    {
     "data": {
      "text/html": [
       "<div>\n",
       "<style scoped>\n",
       "    .dataframe tbody tr th:only-of-type {\n",
       "        vertical-align: middle;\n",
       "    }\n",
       "\n",
       "    .dataframe tbody tr th {\n",
       "        vertical-align: top;\n",
       "    }\n",
       "\n",
       "    .dataframe thead th {\n",
       "        text-align: right;\n",
       "    }\n",
       "</style>\n",
       "<table border=\"1\" class=\"dataframe\">\n",
       "  <thead>\n",
       "    <tr style=\"text-align: right;\">\n",
       "      <th></th>\n",
       "      <th>CIK</th>\n",
       "      <th>Company Name</th>\n",
       "      <th>Form Type</th>\n",
       "      <th>Date Filed</th>\n",
       "      <th>Filename</th>\n",
       "      <th>fname</th>\n",
       "    </tr>\n",
       "  </thead>\n",
       "  <tbody>\n",
       "    <tr>\n",
       "      <td>61</td>\n",
       "      <td>1000230</td>\n",
       "      <td>OPTICAL CABLE CORP</td>\n",
       "      <td>10-K</td>\n",
       "      <td>2017-12-20</td>\n",
       "      <td>edgar/data/1000230/0001437749-17-020936.txt</td>\n",
       "      <td>0001437749-17-020936.txt</td>\n",
       "    </tr>\n",
       "    <tr>\n",
       "      <td>532</td>\n",
       "      <td>1001039</td>\n",
       "      <td>WALT DISNEY CO/</td>\n",
       "      <td>10-K</td>\n",
       "      <td>2017-11-22</td>\n",
       "      <td>edgar/data/1001039/0001001039-17-000198.txt</td>\n",
       "      <td>0001001039-17-000198.txt</td>\n",
       "    </tr>\n",
       "    <tr>\n",
       "      <td>618</td>\n",
       "      <td>1001115</td>\n",
       "      <td>GEOSPACE TECHNOLOGIES CORP</td>\n",
       "      <td>10-K</td>\n",
       "      <td>2017-12-01</td>\n",
       "      <td>edgar/data/1001115/0001564590-17-024421.txt</td>\n",
       "      <td>0001564590-17-024421.txt</td>\n",
       "    </tr>\n",
       "    <tr>\n",
       "      <td>805</td>\n",
       "      <td>1002037</td>\n",
       "      <td>LEARNING TREE INTERNATIONAL, INC.</td>\n",
       "      <td>10-K</td>\n",
       "      <td>2017-12-15</td>\n",
       "      <td>edgar/data/1002037/0001437749-17-020789.txt</td>\n",
       "      <td>0001437749-17-020789.txt</td>\n",
       "    </tr>\n",
       "    <tr>\n",
       "      <td>854</td>\n",
       "      <td>1002517</td>\n",
       "      <td>Nuance Communications, Inc.</td>\n",
       "      <td>10-K</td>\n",
       "      <td>2017-11-29</td>\n",
       "      <td>edgar/data/1002517/0001002517-17-000040.txt</td>\n",
       "      <td>0001002517-17-000040.txt</td>\n",
       "    </tr>\n",
       "  </tbody>\n",
       "</table>\n",
       "</div>"
      ],
      "text/plain": [
       "         CIK                       Company Name Form Type  Date Filed  \\\n",
       "61   1000230                 OPTICAL CABLE CORP      10-K  2017-12-20   \n",
       "532  1001039                    WALT DISNEY CO/      10-K  2017-11-22   \n",
       "618  1001115         GEOSPACE TECHNOLOGIES CORP      10-K  2017-12-01   \n",
       "805  1002037  LEARNING TREE INTERNATIONAL, INC.      10-K  2017-12-15   \n",
       "854  1002517        Nuance Communications, Inc.      10-K  2017-11-29   \n",
       "\n",
       "                                        Filename                     fname  \n",
       "61   edgar/data/1000230/0001437749-17-020936.txt  0001437749-17-020936.txt  \n",
       "532  edgar/data/1001039/0001001039-17-000198.txt  0001001039-17-000198.txt  \n",
       "618  edgar/data/1001115/0001564590-17-024421.txt  0001564590-17-024421.txt  \n",
       "805  edgar/data/1002037/0001437749-17-020789.txt  0001437749-17-020789.txt  \n",
       "854  edgar/data/1002517/0001002517-17-000040.txt  0001002517-17-000040.txt  "
      ]
     },
     "execution_count": 3,
     "metadata": {},
     "output_type": "execute_result"
    }
   ],
   "source": [
    "# we can view the index file with:\n",
    "form.master_index.head()"
   ]
  },
  {
   "cell_type": "code",
   "execution_count": 6,
   "metadata": {},
   "outputs": [
    {
     "name": "stdout",
     "output_type": "stream",
     "text": [
      "Year: 2017 -- Qtr: 4 -- Total companies: 504 -- Total files: 515\n"
     ]
    }
   ],
   "source": [
    "print(f\"Year: {form.year} -- Qtr: {form.quarter} -- Total companies: {form.master_index.CIK.nunique()} -- Total files: {form.master_index.shape[0]}\")"
   ]
  },
  {
   "cell_type": "markdown",
   "metadata": {},
   "source": [
    "##### Download SEC files <a id='download' />"
   ]
  },
  {
   "cell_type": "code",
   "execution_count": 8,
   "metadata": {},
   "outputs": [],
   "source": [
    "# downloading sec files is simple - using a prebuilt form, we can convert the master.idx into files\n",
    "files = form.index_to_files()"
   ]
  },
  {
   "cell_type": "code",
   "execution_count": 21,
   "metadata": {},
   "outputs": [
    {
     "name": "stdout",
     "output_type": "stream",
     "text": [
      "\n",
      "      Company Name: OPTICAL CABLE CORP\n",
      "      CIK Number: 1000230\n",
      "      Date Filed: 2017-12-20 00:00:00\n",
      "      Form Type: 10-K\n",
      "      File Name: 0001437749-17-020936.txt\n",
      "      Download URL: https://www.sec.gov/Archives/edgar/data/1000230/0001437749-17-020936.txt\n",
      "      \n"
     ]
    }
   ],
   "source": [
    "# each file has basic attributes like form_type, company_name, download_url, etc.\n",
    "ex = files[0]\n",
    "msg = f\"\"\"\n",
    "      Company Name: {ex.company_name}\n",
    "      CIK Number: {ex.cik_number}\n",
    "      Date Filed: {ex.date_filed}\n",
    "      Form Type: {ex.form_type}\n",
    "      File Name: {ex.file_name}\n",
    "      Download URL: {ex.file_download_url}\n",
    "      \"\"\"\n",
    "\n",
    "print(msg)"
   ]
  },
  {
   "cell_type": "code",
   "execution_count": 12,
   "metadata": {},
   "outputs": [
    {
     "data": {
      "text/plain": [
       "'200'"
      ]
     },
     "execution_count": 12,
     "metadata": {},
     "output_type": "execute_result"
    }
   ],
   "source": [
    "# to download our example file:\n",
    "output_dir = '.'\n",
    "ex.download_file(output_dir) # 200 is a successful download"
   ]
  },
  {
   "cell_type": "code",
   "execution_count": 16,
   "metadata": {},
   "outputs": [
    {
     "data": {
      "text/plain": [
       "['0001437749-17-020936.txt']"
      ]
     },
     "execution_count": 16,
     "metadata": {},
     "output_type": "execute_result"
    }
   ],
   "source": [
    "import os\n",
    "list(filter(lambda x: x.endswith('txt'), os.listdir(output_dir)))"
   ]
  },
  {
   "cell_type": "code",
   "execution_count": 18,
   "metadata": {},
   "outputs": [
    {
     "data": {
      "text/plain": [
       "'0001437749-17-020936.txt'"
      ]
     },
     "execution_count": 18,
     "metadata": {},
     "output_type": "execute_result"
    }
   ],
   "source": [
    "# to confirm this is indeed our file:\n",
    "ex.file_name"
   ]
  },
  {
   "cell_type": "markdown",
   "metadata": {},
   "source": [
    "##### Closing remarks\n",
    "\n",
    "Getting hands on is great, however using the CLI does provide several advantages:\n",
    "- Automatic directory structure creation\n",
    "- Built in logging and caching\n",
    "- Ability to resume training via download scanning\n",
    "- Multi-threaded file downloading"
   ]
  }
 ],
 "metadata": {
  "kernelspec": {
   "display_name": "Python (SEC)",
   "language": "python",
   "name": "sec_env"
  },
  "language_info": {
   "codemirror_mode": {
    "name": "ipython",
    "version": 3
   },
   "file_extension": ".py",
   "mimetype": "text/x-python",
   "name": "python",
   "nbconvert_exporter": "python",
   "pygments_lexer": "ipython3",
   "version": "3.7.4"
  }
 },
 "nbformat": 4,
 "nbformat_minor": 2
}
